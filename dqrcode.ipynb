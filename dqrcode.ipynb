import qrcode
from IPython.display import Image


qr = qrcode.QRCode(
    version=1,  # Controls the size of the QR Code (1 to 40)
    error_correction=qrcode.constants.ERROR_CORRECT_L,  # Error correction level (L, M, Q, H)
    box_size=10,  # Size of each box in the QR Code
    border=4,  # Size of the border
)

# Data to be encoded in the QR code
data = "https://open.spotify.com/show/4wuJfSARg73k8QPs7tCfFX"

# Add data to the QR code instance
qr.add_data(data)
qr.make(fit=True)

# Create an image from the QR code instance
qr_img = qr.make_image(fill_color="black", back_color="white")

# Display the image in the notebook
qr_img.show()

# Save the QR code as an image file
qr_img.save("qrcode.png")

# Display the saved image
Image(filename="qrcode.png")
