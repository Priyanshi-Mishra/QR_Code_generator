{
 "cells": [
  {
   "cell_type": "code",
   "execution_count": 2,
   "id": "8b9e9d2e-4954-4e85-ad34-91425f970973",
   "metadata": {},
   "outputs": [
    {
     "name": "stdout",
     "output_type": "stream",
     "text": [
      "Collecting qrcode\n",
      "  Downloading qrcode-7.4.2-py3-none-any.whl (46 kB)\n",
      "\u001b[2K     \u001b[90m━━━━━━━━━━━━━━━━━━━━━━━━━━━━━━━━━━━━━━━━\u001b[0m \u001b[32m46.2/46.2 kB\u001b[0m \u001b[31m3.5 MB/s\u001b[0m eta \u001b[36m0:00:00\u001b[0m\n",
      "\u001b[?25hRequirement already satisfied: typing-extensions in /opt/conda/lib/python3.10/site-packages (from qrcode) (4.4.0)\n",
      "Collecting pypng\n",
      "  Downloading pypng-0.20220715.0-py3-none-any.whl (58 kB)\n",
      "\u001b[2K     \u001b[90m━━━━━━━━━━━━━━━━━━━━━━━━━━━━━━━━━━━━━━━━\u001b[0m \u001b[32m58.1/58.1 kB\u001b[0m \u001b[31m7.7 MB/s\u001b[0m eta \u001b[36m0:00:00\u001b[0m\n",
      "\u001b[?25hInstalling collected packages: pypng, qrcode\n",
      "Successfully installed pypng-0.20220715.0 qrcode-7.4.2\n"
     ]
    }
   ],
   "source": [
    "!pip install qrcode\n",
    "import qrcode\n",
    "from PIL import Image\n",
    "qr=qrcode.QRCode(version=1, error_correction=qrcode.constants.ERROR_CORRECT_H,box_size=10,border=4)\n",
    "qr.add_data(\"https://lab.pwskills.com/my-labs\")\n",
    "qr.make(fit=True)\n",
    "img=qr.make_image(fill_colour=\"purple\",back_colour=\"blue\")\n",
    "img.save(\"pwlab.jpeg\")"
   ]
  },
  {
   "cell_type": "code",
   "execution_count": 6,
   "id": "7c3e208d-c2ca-48a7-ab45-fd4b22250040",
   "metadata": {},
   "outputs": [],
   "source": [
    "import qrcode\n",
    "from PIL import Image\n",
    "qr=qrcode.QRCode(version=1, error_correction=qrcode.constants.ERROR_CORRECT_H,box_size=10,border=4)\n",
    "qr.add_data(\"https://lab.pwskills.com/my-labs\")\n",
    "qr.make(fit=True)\n",
    "img=qr.make_image(fill_color=\"red\",back_color=\"blue\")\n",
    "img.save(\"pwlab.jpeg\")"
   ]
  },
  {
   "cell_type": "code",
   "execution_count": null,
   "id": "2122eaba-b634-47bc-b339-e5e8ced7c88d",
   "metadata": {},
   "outputs": [],
   "source": []
  }
 ],
 "metadata": {
  "kernelspec": {
   "display_name": "Python 3 (ipykernel)",
   "language": "python",
   "name": "python3"
  },
  "language_info": {
   "codemirror_mode": {
    "name": "ipython",
    "version": 3
   },
   "file_extension": ".py",
   "mimetype": "text/x-python",
   "name": "python",
   "nbconvert_exporter": "python",
   "pygments_lexer": "ipython3",
   "version": "3.10.8"
  }
 },
 "nbformat": 4,
 "nbformat_minor": 5
}
